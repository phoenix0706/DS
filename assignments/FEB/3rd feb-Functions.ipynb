{
 "cells": [
  {
   "cell_type": "markdown",
   "id": "13007942",
   "metadata": {},
   "source": [
    "### Q1. Which keyword is used to create a function? Create a function to return a list of odd numbers in the range of 1 to 25."
   ]
  },
  {
   "cell_type": "markdown",
   "id": "a3edd79e",
   "metadata": {},
   "source": [
    "def keyword is used to create a function.\n"
   ]
  },
  {
   "cell_type": "code",
   "execution_count": 1,
   "id": "54b12674",
   "metadata": {},
   "outputs": [
    {
     "name": "stdout",
     "output_type": "stream",
     "text": [
      "[1, 3, 5, 7, 9, 11, 13, 15, 17, 19, 21, 23, 25]\n"
     ]
    }
   ],
   "source": [
    "def return_odd(li):\n",
    "    output=[]\n",
    "    for ele in li:\n",
    "        if ele%2!=0:\n",
    "            output.append(ele)\n",
    "    return output\n",
    "li=[x for x in range(1,26)]\n",
    "print(return_odd(li))"
   ]
  },
  {
   "cell_type": "markdown",
   "id": "e34687c6",
   "metadata": {},
   "source": [
    "### Q2. Why *args and **kwargs is used in some functions? Create a function each for *args and **kwargs to demonstrate their use."
   ]
  },
  {
   "cell_type": "markdown",
   "id": "bd0e5884",
   "metadata": {},
   "source": [
    "args and \\*kwargs are types of arbitrary arguments.\n",
    "Types of Arbitrary Arguments:\n",
    "\n",
    "arbitrary positional arguments (\\*args)\n",
    "arbitrary keyword arguments (\\*\\*kwargs)\n",
    "\n",
    "The \\*args and \\*\\*kwargs allows us to pass multiple positional arguments or keyword arguments to a function."
   ]
  },
  {
   "cell_type": "markdown",
   "id": "659eaed4",
   "metadata": {},
   "source": [
    "### Arbitrary positional arguments (*args)\n",
    "We can declare a variable-length argument with the * (asterisk) symbol. We place an asterisk (*) before a parameter in the function definition to define an arbitrary positional argument."
   ]
  },
  {
   "cell_type": "code",
   "execution_count": 1,
   "id": "d266eff8",
   "metadata": {},
   "outputs": [
    {
     "name": "stdout",
     "output_type": "stream",
     "text": [
      "Average = 63.333333333333336\n"
     ]
    }
   ],
   "source": [
    "# function with variable-length arguments\n",
    "def percentage(*args):\n",
    "    sum = 0\n",
    "    for i in args:\n",
    "        # get total\n",
    "        sum = sum + i\n",
    "    # calculate average\n",
    "    avg = sum / len(args)\n",
    "    print('Average =', avg)\n",
    "\n",
    "percentage(56, 61, 73)"
   ]
  },
  {
   "cell_type": "markdown",
   "id": "b73bf4b6",
   "metadata": {},
   "source": [
    "#### Arbitrary keyword arguments (**kwargs)\n",
    "The \\*\\*kwargs allow us to pass multiple keyword arguments to a function. We usse the **kwargs if we want to handle named arguments in a function.\n",
    "\n",
    "We use the unpacking operator(**) to define variable-length keyword arguments. Keyword arguments passed to a kwargs are accessed using key-value pair (same as accessing a dictionary in Python)."
   ]
  },
  {
   "cell_type": "code",
   "execution_count": 2,
   "id": "ee2ff5c0",
   "metadata": {},
   "outputs": [
    {
     "name": "stdout",
     "output_type": "stream",
     "text": [
      "math = 56\n",
      "english = 61\n",
      "science = 73\n"
     ]
    }
   ],
   "source": [
    "# function with variable-length keyword arguments\n",
    "def percentage(**kwargs):\n",
    "    sum = 0\n",
    "    for sub in kwargs:\n",
    "        # get argument name\n",
    "        sub_name = sub\n",
    "        # get argument value\n",
    "        sub_marks = kwargs[sub]\n",
    "        print(sub_name, \"=\", sub_marks)\n",
    "\n",
    "# pass multiple keyword arguments\n",
    "percentage(math=56, english=61, science=73)"
   ]
  },
  {
   "cell_type": "markdown",
   "id": "9ed90eed",
   "metadata": {},
   "source": [
    "### Q3. What is an iterator in python? Name the method used to initialise the iterator object and the method used for iteration. Use these methods to print the first five elements of the given list [2, 4, 6, 8, 10, 12, 14, 16, 18, 20]."
   ]
  },
  {
   "cell_type": "markdown",
   "id": "e91dc9e2",
   "metadata": {},
   "source": [
    "Iterator in Python is an object that is used to iterate over iterable objects like lists, tuples, dicts, and sets. The iterator object is initialized using the iter() method. It uses the next() method for iteration.\n",
    "1. __iter__(): The iter() method is called for the initialization of an iterator. This returns an iterator object\n",
    "2. __next__(): The next method returns the next value for the iterable. When we use a for loop to traverse any iterable object, internally it uses the iter() method to get an iterator object, which further uses the next() method to iterate over. This method raises a StopIteration to signal the end of the iteration."
   ]
  },
  {
   "cell_type": "code",
   "execution_count": 4,
   "id": "880d3473",
   "metadata": {},
   "outputs": [
    {
     "name": "stdout",
     "output_type": "stream",
     "text": [
      "2\n",
      "4\n",
      "6\n",
      "8\n",
      "10\n"
     ]
    }
   ],
   "source": [
    "li=iter([2, 4, 6, 8, 10, 12, 14, 16, 18, 20])\n",
    "print(next(li))\n",
    "print(next(li))\n",
    "print(next(li))\n",
    "print(next(li))\n",
    "print(next(li))"
   ]
  },
  {
   "cell_type": "markdown",
   "id": "6c3b385e",
   "metadata": {},
   "source": [
    "### Q4. What is a generator function in python? Why yield keyword is used? Give an example of a generator function."
   ]
  },
  {
   "cell_type": "markdown",
   "id": "3901a0b8",
   "metadata": {},
   "source": [
    "In Python, a generator is a function that returns an iterator that produces a sequence of values when iterated over.\n",
    "\n",
    "yield keyword is used to create a generator function. A type of function that is memory efficient and can be used like an iterator object.\n",
    "\n",
    "**Syntax of the Yield Keyword in Python**\n",
    "```\n",
    "def gen_func(x):\n",
    "    for i in range(x):\n",
    "        yield i\n",
    "```"
   ]
  },
  {
   "cell_type": "code",
   "execution_count": 5,
   "id": "c3de3c78",
   "metadata": {},
   "outputs": [
    {
     "name": "stdout",
     "output_type": "stream",
     "text": [
      "0\n",
      "1\n",
      "2\n"
     ]
    }
   ],
   "source": [
    "def my_generator(n):\n",
    "    # initialize counter\n",
    "    value = 0\n",
    "    # loop until counter is less than n\n",
    "    while value < n:\n",
    "        # produce the current value of the counter\n",
    "        yield value\n",
    "        # increment the counter\n",
    "        value += 1\n",
    "# iterate over the generator object produced by my_generator\n",
    "for value in my_generator(3):\n",
    "    # print each value produced by generator\n",
    "    print(value)"
   ]
  },
  {
   "cell_type": "markdown",
   "id": "551a2432",
   "metadata": {},
   "source": [
    "### Q5. Create a generator function for prime numbers less than 1000. Use the next() method to print the first 20 prime numbers."
   ]
  },
  {
   "cell_type": "code",
   "execution_count": 6,
   "id": "f9ce189c",
   "metadata": {},
   "outputs": [
    {
     "name": "stdout",
     "output_type": "stream",
     "text": [
      "The first 20 prime numbers:\n",
      "2\n",
      "3\n",
      "5\n",
      "7\n",
      "11\n",
      "13\n",
      "17\n",
      "19\n",
      "23\n",
      "29\n",
      "31\n",
      "37\n",
      "41\n",
      "43\n",
      "47\n",
      "53\n",
      "59\n",
      "61\n",
      "67\n",
      "71\n"
     ]
    }
   ],
   "source": [
    "def prime_numbers():\n",
    "    yield 2\n",
    "    primes = [2]\n",
    "    candidate = 3\n",
    "    while candidate < 1000:\n",
    "        is_prime = True\n",
    "        for prime in primes:\n",
    "            if candidate % prime == 0:\n",
    "                is_prime = False\n",
    "                break\n",
    "        if is_prime:\n",
    "            primes.append(candidate)\n",
    "            yield candidate\n",
    "        candidate += 2\n",
    "\n",
    "primes = prime_numbers()\n",
    "\n",
    "print(\"The first 20 prime numbers:\")\n",
    "for i in range(20):\n",
    "    print(next(primes))"
   ]
  },
  {
   "cell_type": "code",
   "execution_count": null,
   "id": "a3af0195",
   "metadata": {},
   "outputs": [],
   "source": []
  }
 ],
 "metadata": {
  "kernelspec": {
   "display_name": "Python 3 (ipykernel)",
   "language": "python",
   "name": "python3"
  },
  "language_info": {
   "codemirror_mode": {
    "name": "ipython",
    "version": 3
   },
   "file_extension": ".py",
   "mimetype": "text/x-python",
   "name": "python",
   "nbconvert_exporter": "python",
   "pygments_lexer": "ipython3",
   "version": "3.10.4"
  }
 },
 "nbformat": 4,
 "nbformat_minor": 5
}
