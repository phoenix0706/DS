{
 "cells": [
  {
   "cell_type": "markdown",
   "id": "24ea02dc",
   "metadata": {},
   "source": [
    "### Q1. What are the characteristics of the tuples? Is tuple immutable?"
   ]
  },
  {
   "cell_type": "markdown",
   "id": "bdd070d8",
   "metadata": {},
   "source": [
    "1. Tuple is a \"Sequence\" type in python.\n",
    "2. () parenthesis are use to delimit a tuple in python/\n",
    "3. () represents an empty tuple.\n",
    "4. Yes tuples are immutable in python."
   ]
  },
  {
   "cell_type": "markdown",
   "id": "f7a54e5a",
   "metadata": {},
   "source": [
    "### Q2. What are the two tuple methods in python? Give an example of each method. Give a reason why tuples have only two in-built methods as compared to Lists."
   ]
  },
  {
   "cell_type": "markdown",
   "id": "170a29ef",
   "metadata": {},
   "source": [
    "Python has two built-in methods that you can use on tuples.\n",
    "\n",
    "Method\n",
    "\n",
    "1. count()-\tReturns the number of times a specified value occurs in a tuple\n",
    "2. index()\tSearches the tuple for a specified value and returns the position of where it was found.\n"
   ]
  },
  {
   "cell_type": "markdown",
   "id": "e23bf33c",
   "metadata": {},
   "source": [
    "There are only two inbuilt methods in tuples as compared to list as tuples are immutable and cannot be modified or changed whereas lists are mutable."
   ]
  },
  {
   "cell_type": "markdown",
   "id": "7af6f31c",
   "metadata": {},
   "source": [
    "### Q3. Which collection datatypes in python do not allow duplicate items? Write a code using a set to remove duplicates from the given list."
   ]
  },
  {
   "cell_type": "markdown",
   "id": "60578cd9",
   "metadata": {},
   "source": [
    "Set datatype in python do not allow duplicate items"
   ]
  },
  {
   "cell_type": "code",
   "execution_count": 2,
   "id": "385e4f30",
   "metadata": {},
   "outputs": [
    {
     "name": "stdout",
     "output_type": "stream",
     "text": [
      "{1, 2, 3, 4}\n"
     ]
    }
   ],
   "source": [
    "# code to remove duplicates using set\n",
    "List = [1, 1, 1, 2, 1, 3, 1, 4, 2, 1, 2, 2, 2, 3, 2, 4, 3, 1, 3, 2, 3, 3, 3, 4, 4, 1, 4, 2, 4, 3, 4, 4]\n",
    "s=set(List)\n",
    "print(s)"
   ]
  },
  {
   "cell_type": "markdown",
   "id": "ee064537",
   "metadata": {},
   "source": [
    "### Q4. Explain the difference between the union() and update() methods for a set. Give an example of each method."
   ]
  },
  {
   "cell_type": "code",
   "execution_count": 6,
   "id": "dc3176f9",
   "metadata": {},
   "outputs": [
    {
     "name": "stdout",
     "output_type": "stream",
     "text": [
      "{1, 2, 3, 4, 5, 9, 10, 20, 30}\n",
      "{1, 2, 3, 4, 5, 9, 10, 20, 30}\n"
     ]
    }
   ],
   "source": [
    "# Union gives a new set with elements from both the sets\n",
    "s1={1,2,3,4,5}\n",
    "s2={1,2,3,9,10,20,30}\n",
    "s3=s1.union(s2)\n",
    "print(s1.union(s2))\n",
    "print(s3)"
   ]
  },
  {
   "cell_type": "code",
   "execution_count": 7,
   "id": "db0ba9fc",
   "metadata": {},
   "outputs": [
    {
     "name": "stdout",
     "output_type": "stream",
     "text": [
      "None\n",
      "{1, 2, 3, 4, 5, 9, 10, 20, 30}\n"
     ]
    }
   ],
   "source": [
    "# Update return set s1 with elements added from s2\n",
    "s1={1,2,3,4,5}\n",
    "s2={1,2,3,9,10,20,30}\n",
    "s3=s1.update(s2)\n",
    "print(s3) #prints None as update doesnt returns a new set\n",
    "# update modifies s1 set\n",
    "print(s1)"
   ]
  },
  {
   "cell_type": "markdown",
   "id": "d81321de",
   "metadata": {},
   "source": [
    "### Q5. What is a dictionary? Give an example. Also, state whether a dictionary is ordered or unordered."
   ]
  },
  {
   "cell_type": "markdown",
   "id": "e0afded5",
   "metadata": {},
   "source": [
    "1. Dictionary also mapping is a set of distinct key-value pairs. In python dict class represents dictionary. Dictionary are written within {} brackets.\n",
    "2. Dictionary items are ordered, changeable, and does not allow duplicates."
   ]
  },
  {
   "cell_type": "code",
   "execution_count": 10,
   "id": "812d79ae",
   "metadata": {},
   "outputs": [
    {
     "name": "stdout",
     "output_type": "stream",
     "text": [
      "Rahul\n"
     ]
    }
   ],
   "source": [
    "# EXAMPLE\n",
    "di={'name':'Rahul', \n",
    "    'age':20,\n",
    "   'degree':'bca'}\n",
    "print(di['name'])"
   ]
  },
  {
   "cell_type": "markdown",
   "id": "2d3c4284",
   "metadata": {},
   "source": [
    "### Q6. Can we create a nested dictionary? If so, please give an example by creating a simple one-level nested dictionary."
   ]
  },
  {
   "cell_type": "markdown",
   "id": "70e400e7",
   "metadata": {},
   "source": [
    "Yes we can create nested dictionary."
   ]
  },
  {
   "cell_type": "code",
   "execution_count": 11,
   "id": "8bee7df0",
   "metadata": {},
   "outputs": [
    {
     "name": "stdout",
     "output_type": "stream",
     "text": [
      "value_A2\n"
     ]
    }
   ],
   "source": [
    "#EXAMPLE\n",
    "nested_dict = { 'dict1': {'key_A': 'value_A','key_A2':'value_A2'},\n",
    "                'dict2': {'key_B': 'value_B'}\n",
    "              }\n",
    "print(nested_dict['dict1']['key_A2'])"
   ]
  },
  {
   "cell_type": "markdown",
   "id": "1e4826ce",
   "metadata": {},
   "source": [
    "### Q7. Using setdefault() method, create key named topics in the given dictionary and also add the value of the key as this list ['Python', 'Machine Learning’, 'Deep Learning']"
   ]
  },
  {
   "cell_type": "code",
   "execution_count": 14,
   "id": "b5149888",
   "metadata": {},
   "outputs": [
    {
     "name": "stdout",
     "output_type": "stream",
     "text": [
      "{'language': 'Python', 'course': 'Data Science Masters', 'topics': ['Python', 'Machine Learning', 'Deep Learning']}\n"
     ]
    }
   ],
   "source": [
    "dict1 = {'language' : 'Python', 'course': 'Data Science Masters'}\n",
    "dict1.setdefault('topics', ['Python', 'Machine Learning', 'Deep Learning'])\n",
    "print(dict1)"
   ]
  },
  {
   "cell_type": "markdown",
   "id": "6593df70",
   "metadata": {},
   "source": [
    "### Q8. What are the three view objects in dictionaries? Use the three in-built methods in python to display these three view objects for the given dictionary.\n",
    "dict1 = {'Sport': 'Cricket' , 'Teams': ['India', 'Australia', 'England', 'South Africa', 'Sri Lanka', 'New Zealand']}"
   ]
  },
  {
   "cell_type": "markdown",
   "id": "912dd4ee",
   "metadata": {},
   "source": [
    "The three view objects in python are keys,values and items"
   ]
  },
  {
   "cell_type": "code",
   "execution_count": 16,
   "id": "b4c717bf",
   "metadata": {},
   "outputs": [],
   "source": [
    " # built-in methods in python to display these three view objects for given dictionary.\n",
    "dict1 = {'Sport': 'Cricket' , 'Teams': ['India', 'Australia', 'England', 'South Africa', 'Sri Lanka', 'New Zealand']}"
   ]
  },
  {
   "cell_type": "code",
   "execution_count": 17,
   "id": "113ad004",
   "metadata": {},
   "outputs": [
    {
     "data": {
      "text/plain": [
       "dict_keys(['Sport', 'Teams'])"
      ]
     },
     "execution_count": 17,
     "metadata": {},
     "output_type": "execute_result"
    }
   ],
   "source": [
    "dict1.keys()"
   ]
  },
  {
   "cell_type": "code",
   "execution_count": 19,
   "id": "961b7881",
   "metadata": {},
   "outputs": [
    {
     "data": {
      "text/plain": [
       "dict_values(['Cricket', ['India', 'Australia', 'England', 'South Africa', 'Sri Lanka', 'New Zealand']])"
      ]
     },
     "execution_count": 19,
     "metadata": {},
     "output_type": "execute_result"
    }
   ],
   "source": [
    "dict1.values()"
   ]
  },
  {
   "cell_type": "code",
   "execution_count": 20,
   "id": "12f41453",
   "metadata": {},
   "outputs": [
    {
     "data": {
      "text/plain": [
       "dict_items([('Sport', 'Cricket'), ('Teams', ['India', 'Australia', 'England', 'South Africa', 'Sri Lanka', 'New Zealand'])])"
      ]
     },
     "execution_count": 20,
     "metadata": {},
     "output_type": "execute_result"
    }
   ],
   "source": [
    "dict1.items()"
   ]
  },
  {
   "cell_type": "code",
   "execution_count": null,
   "id": "452c2ce6",
   "metadata": {},
   "outputs": [],
   "source": []
  }
 ],
 "metadata": {
  "kernelspec": {
   "display_name": "Python 3 (ipykernel)",
   "language": "python",
   "name": "python3"
  },
  "language_info": {
   "codemirror_mode": {
    "name": "ipython",
    "version": 3
   },
   "file_extension": ".py",
   "mimetype": "text/x-python",
   "name": "python",
   "nbconvert_exporter": "python",
   "pygments_lexer": "ipython3",
   "version": "3.10.4"
  }
 },
 "nbformat": 4,
 "nbformat_minor": 5
}
